{
 "cells": [
  {
   "cell_type": "code",
   "execution_count": 1,
   "id": "88a54521-33d2-43d6-8455-9511900b7988",
   "metadata": {},
   "outputs": [],
   "source": [
    "import tensorflow as tf\n",
    "from tensorflow.keras import datasets, layers, models\n",
    "import matplotlib.pyplot as plt\n",
    "import numpy as np"
   ]
  },
  {
   "cell_type": "code",
   "execution_count": 2,
   "id": "392f836a",
   "metadata": {},
   "outputs": [],
   "source": [
    "#Loading train test preprossed data"
   ]
  },
  {
   "cell_type": "code",
   "execution_count": 3,
   "id": "fdce8a86-2ad4-4f0c-ba9a-e9d336194418",
   "metadata": {},
   "outputs": [],
   "source": [
    "(train_images, train_labels), (test_images, test_labels) = datasets.cifar10.load_data()"
   ]
  },
  {
   "cell_type": "code",
   "execution_count": 4,
   "id": "7d8b8e53-a0e7-4edd-9574-4e4f56de5644",
   "metadata": {},
   "outputs": [],
   "source": [
    "train_images, test_images = train_images / 255.0, test_images / 255.0 #normalize pixel value to be btn 0-1"
   ]
  },
  {
   "cell_type": "code",
   "execution_count": 5,
   "id": "663d94df-845b-4a5a-86fb-ffd63b2415ca",
   "metadata": {},
   "outputs": [],
   "source": [
    "class_names = ['airplane', 'automobile', 'bird', 'cat', 'deer', 'dog', 'frog', 'horse', 'ship', 'truck']"
   ]
  },
  {
   "cell_type": "code",
   "execution_count": 6,
   "id": "20e2445d",
   "metadata": {},
   "outputs": [],
   "source": [
    "#Define Model Architecture"
   ]
  },
  {
   "cell_type": "code",
   "execution_count": 7,
   "id": "1562b11d-57fc-4616-82d4-a6d686126285",
   "metadata": {},
   "outputs": [
    {
     "name": "stderr",
     "output_type": "stream",
     "text": [
      "C:\\Users\\Omkar\\AppData\\Local\\Programs\\Python\\Python312\\Lib\\site-packages\\keras\\src\\layers\\convolutional\\base_conv.py:107: UserWarning: Do not pass an `input_shape`/`input_dim` argument to a layer. When using Sequential models, prefer using an `Input(shape)` object as the first layer in the model instead.\n",
      "  super().__init__(activity_regularizer=activity_regularizer, **kwargs)\n"
     ]
    }
   ],
   "source": [
    "model = models.Sequential([\n",
    "    layers.Conv2D(32, (3, 3), activation='relu', input_shape=(32, 32, 3)),\n",
    "    layers.MaxPooling2D((2, 2)),\n",
    "    layers.Conv2D(64, (3, 3), activation='relu'),\n",
    "    layers.MaxPooling2D((2, 2)),\n",
    "    layers.Conv2D(64, (3, 3), activation='relu'),\n",
    "    layers.Flatten(),\n",
    "    layers.Dense(64, activation='relu'),\n",
    "    layers.Dense(10, activation='softmax')\n",
    "])"
   ]
  },
  {
   "cell_type": "code",
   "execution_count": 8,
   "id": "e2f0edd9-fd0e-4a89-9bf2-80a80e11558f",
   "metadata": {},
   "outputs": [],
   "source": [
    "#Compile the model\n",
    "model.compile(optimizer='adam',\n",
    "              loss='sparse_categorical_crossentropy',\n",
    "              metrics=['accuracy'])"
   ]
  },
  {
   "cell_type": "code",
   "execution_count": null,
   "id": "8351f791",
   "metadata": {},
   "outputs": [],
   "source": []
  },
  {
   "cell_type": "code",
   "execution_count": 9,
   "id": "345d616d-6f56-4f44-aef1-0c2596b1dad0",
   "metadata": {},
   "outputs": [
    {
     "name": "stdout",
     "output_type": "stream",
     "text": [
      "Epoch 1/5\n",
      "\u001b[1m1563/1563\u001b[0m \u001b[32m━━━━━━━━━━━━━━━━━━━━\u001b[0m\u001b[37m\u001b[0m \u001b[1m8s\u001b[0m 5ms/step - accuracy: 0.3682 - loss: 1.7117 - val_accuracy: 0.5754 - val_loss: 1.1957\n",
      "Epoch 2/5\n",
      "\u001b[1m1563/1563\u001b[0m \u001b[32m━━━━━━━━━━━━━━━━━━━━\u001b[0m\u001b[37m\u001b[0m \u001b[1m7s\u001b[0m 5ms/step - accuracy: 0.5863 - loss: 1.1649 - val_accuracy: 0.6223 - val_loss: 1.0734\n",
      "Epoch 3/5\n",
      "\u001b[1m1563/1563\u001b[0m \u001b[32m━━━━━━━━━━━━━━━━━━━━\u001b[0m\u001b[37m\u001b[0m \u001b[1m7s\u001b[0m 4ms/step - accuracy: 0.6493 - loss: 1.0049 - val_accuracy: 0.6710 - val_loss: 0.9564\n",
      "Epoch 4/5\n",
      "\u001b[1m1563/1563\u001b[0m \u001b[32m━━━━━━━━━━━━━━━━━━━━\u001b[0m\u001b[37m\u001b[0m \u001b[1m7s\u001b[0m 4ms/step - accuracy: 0.6919 - loss: 0.8825 - val_accuracy: 0.6758 - val_loss: 0.9237\n",
      "Epoch 5/5\n",
      "\u001b[1m1563/1563\u001b[0m \u001b[32m━━━━━━━━━━━━━━━━━━━━\u001b[0m\u001b[37m\u001b[0m \u001b[1m7s\u001b[0m 4ms/step - accuracy: 0.7221 - loss: 0.7964 - val_accuracy: 0.6987 - val_loss: 0.8782\n"
     ]
    }
   ],
   "source": [
    "#train the model\n",
    "history = model.fit(train_images, train_labels, epochs=5,validation_data=(test_images, test_labels))\n"
   ]
  },
  {
   "cell_type": "code",
   "execution_count": 18,
   "id": "b1457c49-868e-4cf1-b7b8-12f717ed97df",
   "metadata": {},
   "outputs": [
    {
     "name": "stdout",
     "output_type": "stream",
     "text": [
      "\u001b[1m313/313\u001b[0m \u001b[32m━━━━━━━━━━━━━━━━━━━━\u001b[0m\u001b[37m\u001b[0m \u001b[1m1s\u001b[0m 2ms/step\n"
     ]
    }
   ],
   "source": [
    "predictions=model.predict(test_images)"
   ]
  },
  {
   "cell_type": "code",
   "execution_count": null,
   "id": "8573fd91-0f48-4b49-8987-da9277ab63b5",
   "metadata": {},
   "outputs": [],
   "source": []
  },
  {
   "cell_type": "code",
   "execution_count": null,
   "id": "0fc67f52",
   "metadata": {},
   "outputs": [],
   "source": []
  },
  {
   "cell_type": "code",
   "execution_count": 19,
   "id": "b156937d-1231-4ce3-a437-34e5340b11a6",
   "metadata": {},
   "outputs": [],
   "source": [
    "#ploting single image\n",
    "def plot_image(pred_index, predictions_array, true_label, img):\n",
    "    true_label, img = true_label[pred_index][0], img[pred_index]  # Extract the label and image\n",
    "    plt.grid(False)\n",
    "    plt.xticks([])\n",
    "    plt.yticks([])\n",
    "    plt.imshow(img, cmap=plt.cm.binary)\n",
    "\n",
    "    predicted_label = np.argmax(predictions_array)\n",
    "    color = 'blue' if predicted_label == true_label else 'red'\n",
    "\n",
    "    plt.xlabel(f\"Predicted: {class_names[predicted_label]} ({100 * np.max(predictions_array):.2f}%)\\nTrue: {class_names[true_label]}\", color=color)\n"
   ]
  },
  {
   "cell_type": "code",
   "execution_count": 20,
   "id": "21879324-005c-44e7-a223-417e02663124",
   "metadata": {},
   "outputs": [],
   "source": [
    "def plot_value_array(pred_index, predictions_array, true_label):\n",
    "    true_label = true_label[pred_index][0]  # Extract the true label\n",
    "    plt.grid(False)\n",
    "    plt.xticks(range(10), class_names, rotation=45)\n",
    "    plt.yticks(np.arange(0, 1.1, 0.1), [f\"{int(i * 100)}%\" for i in np.arange(0, 1.1, 0.1)])\n",
    "    thisplot = plt.bar(range(10), predictions_array, color=\"#777777\")\n",
    "    plt.ylim([0, 1])\n",
    "    predicted_label = np.argmax(predictions_array)\n",
    "\n",
    "    thisplot[predicted_label].set_color('red')\n",
    "    thisplot[true_label].set_color('blue')\n"
   ]
  },
  {
   "cell_type": "code",
   "execution_count": 21,
   "id": "c01f075a-b77f-4bf1-a497-866de8cd22b6",
   "metadata": {},
   "outputs": [],
   "source": [
    "def predict_and_plot_image(index):\n",
    "    plt.figure(figsize=(10, 5))\n",
    "    plt.subplot(1, 2, 1)\n",
    "    plot_image(index, predictions[index], test_labels, test_images)\n",
    "\n",
    "    plt.subplot(1, 2, 2)\n",
    "    plot_value_array(index, predictions[index], test_labels)\n",
    "    plt.show()"
   ]
  },
  {
   "cell_type": "code",
   "execution_count": 22,
   "id": "bbaed6f6",
   "metadata": {},
   "outputs": [],
   "source": [
    "def find_image_by_class(target_class):\n",
    "    for i in range(len(test_labels)):\n",
    "        if test_labels[i][0] == target_class:\n",
    "            return i\n",
    "    return -1"
   ]
  },
  {
   "cell_type": "code",
   "execution_count": 23,
   "id": "c1025513-afbb-4cea-aac9-eb69ea4ed779",
   "metadata": {},
   "outputs": [],
   "source": [
    "target_class = 7  \n",
    "image_index = find_image_by_class(target_class)"
   ]
  },
  {
   "cell_type": "code",
   "execution_count": 24,
   "id": "86880ed4-1642-4a2c-acae-ceb4dddb7cce",
   "metadata": {},
   "outputs": [
    {
     "data": {
      "image/png": "[encoded data removed]",
      "text/plain": [
       "<Figure size 1000x500 with 2 Axes>"
      ]
     },
     "metadata": {},
     "output_type": "display_data"
    }
   ],
   "source": [
    "if image_index != -1:\n",
    "    predict_and_plot_image(image_index)\n",
    "else:\n",
    "    print(\"Image not found for the specified class.\")"
   ]
  },
  {
   "cell_type": "code",
   "execution_count": 25,
   "id": "20252c70-a4f9-43a8-b8b3-5ecc09732bcb",
   "metadata": {},
   "outputs": [
    {
     "name": "stdout",
     "output_type": "stream",
     "text": [
      "313/313 - 1s - 2ms/step - accuracy: 0.6987 - loss: 0.8782\n",
      "Test accuracy: 0.6987000107765198\n",
      "Loss:  0.8781734108924866\n"
     ]
    }
   ],
   "source": [
    "#Evaluate the model\n",
    "test_loss, test_acc = model.evaluate(test_images, test_labels, verbose=2)\n",
    "print(f\"Test accuracy: {test_acc}\")\n",
    "print(\"Loss: \", test_loss)"
   ]
  },
  {
   "cell_type": "code",
   "execution_count": null,
   "id": "3a536cdc",
   "metadata": {},
   "outputs": [],
   "source": []
  }
 ],
 "metadata": {
  "kernelspec": {
   "display_name": "Python 3 (ipykernel)",
   "language": "python",
   "name": "python3"
  },
  "language_info": {
   "codemirror_mode": {
    "name": "ipython",
    "version": 3
   },
   "file_extension": ".py",
   "mimetype": "text/x-python",
   "name": "python",
   "nbconvert_exporter": "python",
   "pygments_lexer": "ipython3",
   "version": "3.12.6"
  }
 },
 "nbformat": 4,
 "nbformat_minor": 5
}
